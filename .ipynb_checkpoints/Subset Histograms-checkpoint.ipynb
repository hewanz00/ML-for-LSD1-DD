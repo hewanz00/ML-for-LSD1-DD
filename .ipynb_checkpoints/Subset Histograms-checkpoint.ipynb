{
 "cells": [
  {
   "cell_type": "code",
   "execution_count": 2,
   "id": "1b1cc78f",
   "metadata": {},
   "outputs": [],
   "source": [
    "import pandas as pd\n",
    "import matplotlib.pyplot as plt\n",
    "import numpy as np\n",
    "# if using a Jupyter notebook, includue:\n",
    "%matplotlib inline"
   ]
  },
  {
   "cell_type": "code",
   "execution_count": 1,
   "id": "d8e6cce3",
   "metadata": {},
   "outputs": [],
   "source": [
    "# subsets were originally manually identified using Datawarrior and listed in the final 2 columns. They were then added to a table of T1 and T2 values from "
   ]
  },
  {
   "cell_type": "code",
   "execution_count": 2,
   "id": "4ddbec13",
   "metadata": {
    "scrolled": true
   },
   "outputs": [
    {
     "data": {
      "text/html": [
       "<div>\n",
       "<style scoped>\n",
       "    .dataframe tbody tr th:only-of-type {\n",
       "        vertical-align: middle;\n",
       "    }\n",
       "\n",
       "    .dataframe tbody tr th {\n",
       "        vertical-align: top;\n",
       "    }\n",
       "\n",
       "    .dataframe thead th {\n",
       "        text-align: right;\n",
       "    }\n",
       "</style>\n",
       "<table border=\"1\" class=\"dataframe\">\n",
       "  <thead>\n",
       "    <tr style=\"text-align: right;\">\n",
       "      <th></th>\n",
       "      <th>Unnamed: 0</th>\n",
       "      <th>T1</th>\n",
       "      <th>T2</th>\n",
       "      <th>old/new</th>\n",
       "      <th>new pchembl</th>\n",
       "      <th>SMILES</th>\n",
       "      <th>subset</th>\n",
       "      <th>subset.1</th>\n",
       "    </tr>\n",
       "  </thead>\n",
       "  <tbody>\n",
       "    <tr>\n",
       "      <th>0</th>\n",
       "      <td>931</td>\n",
       "      <td>-20.177855</td>\n",
       "      <td>17.812523</td>\n",
       "      <td>new</td>\n",
       "      <td>6.221849</td>\n",
       "      <td>COC1=C(O)C=CC(CNC(CCCC/C=C/C(C)C)=O)=C1</td>\n",
       "      <td>NaN</td>\n",
       "      <td>NaN</td>\n",
       "    </tr>\n",
       "    <tr>\n",
       "      <th>1</th>\n",
       "      <td>932</td>\n",
       "      <td>-8.664650</td>\n",
       "      <td>15.222310</td>\n",
       "      <td>new</td>\n",
       "      <td>5.530178</td>\n",
       "      <td>OC1=C2C(OC=C(C3=CC=C(OC)C=C3)C2=O)=CC(O)=C1</td>\n",
       "      <td>3.0</td>\n",
       "      <td>NaN</td>\n",
       "    </tr>\n",
       "    <tr>\n",
       "      <th>2</th>\n",
       "      <td>933</td>\n",
       "      <td>-26.357708</td>\n",
       "      <td>16.057530</td>\n",
       "      <td>new</td>\n",
       "      <td>6.958607</td>\n",
       "      <td>OC1=CC=C(/C=C/C(O[C@@H](C(O)=O)CC2=CC=C(O)C(O)...</td>\n",
       "      <td>3.0</td>\n",
       "      <td>2.0</td>\n",
       "    </tr>\n",
       "    <tr>\n",
       "      <th>3</th>\n",
       "      <td>934</td>\n",
       "      <td>-26.245167</td>\n",
       "      <td>16.169292</td>\n",
       "      <td>new</td>\n",
       "      <td>4.679231</td>\n",
       "      <td>OC1=C(O)C=CC(/C=C/C(O[C@H](CC2=CC(O)=C(O)C=C2)...</td>\n",
       "      <td>3.0</td>\n",
       "      <td>NaN</td>\n",
       "    </tr>\n",
       "    <tr>\n",
       "      <th>4</th>\n",
       "      <td>935</td>\n",
       "      <td>-6.062587</td>\n",
       "      <td>3.245143</td>\n",
       "      <td>new</td>\n",
       "      <td>4.799971</td>\n",
       "      <td>CC1=C(C=CC(C(OC[C@@H]2C)=C2C3=O)=C4C3=O)C4=CC=C1</td>\n",
       "      <td>3.0</td>\n",
       "      <td>2.0</td>\n",
       "    </tr>\n",
       "    <tr>\n",
       "      <th>...</th>\n",
       "      <td>...</td>\n",
       "      <td>...</td>\n",
       "      <td>...</td>\n",
       "      <td>...</td>\n",
       "      <td>...</td>\n",
       "      <td>...</td>\n",
       "      <td>...</td>\n",
       "      <td>...</td>\n",
       "    </tr>\n",
       "    <tr>\n",
       "      <th>271</th>\n",
       "      <td>1202</td>\n",
       "      <td>29.576920</td>\n",
       "      <td>42.236760</td>\n",
       "      <td>new</td>\n",
       "      <td>4.356547</td>\n",
       "      <td>NC([C@@]([H])(NC([C@@H](NC([C@@H](NC([C@@H](NC...</td>\n",
       "      <td>1.0</td>\n",
       "      <td>NaN</td>\n",
       "    </tr>\n",
       "    <tr>\n",
       "      <th>272</th>\n",
       "      <td>1203</td>\n",
       "      <td>28.674273</td>\n",
       "      <td>42.121370</td>\n",
       "      <td>new</td>\n",
       "      <td>5.275724</td>\n",
       "      <td>NC([C@@]([H])(NC([C@@H](NC([C@@H](NC([C@@H](NC...</td>\n",
       "      <td>1.0</td>\n",
       "      <td>NaN</td>\n",
       "    </tr>\n",
       "    <tr>\n",
       "      <th>273</th>\n",
       "      <td>1204</td>\n",
       "      <td>30.456985</td>\n",
       "      <td>42.285816</td>\n",
       "      <td>new</td>\n",
       "      <td>4.886057</td>\n",
       "      <td>NC([C@@H](C)NC([C@@H](NC([C@@H](C)NC([C@@H](NC...</td>\n",
       "      <td>1.0</td>\n",
       "      <td>NaN</td>\n",
       "    </tr>\n",
       "    <tr>\n",
       "      <th>274</th>\n",
       "      <td>1205</td>\n",
       "      <td>29.793129</td>\n",
       "      <td>41.812630</td>\n",
       "      <td>new</td>\n",
       "      <td>4.853872</td>\n",
       "      <td>NC([C@@]([H])(NC([C@@H](NC([C@@H](NC([C@H](CCC...</td>\n",
       "      <td>1.0</td>\n",
       "      <td>NaN</td>\n",
       "    </tr>\n",
       "    <tr>\n",
       "      <th>275</th>\n",
       "      <td>1206</td>\n",
       "      <td>29.898232</td>\n",
       "      <td>41.115300</td>\n",
       "      <td>new</td>\n",
       "      <td>4.221849</td>\n",
       "      <td>NC([C@@]([H])(NC([C@@H](NC([C@@H](NC([C@@H](NC...</td>\n",
       "      <td>1.0</td>\n",
       "      <td>NaN</td>\n",
       "    </tr>\n",
       "  </tbody>\n",
       "</table>\n",
       "<p>276 rows × 8 columns</p>\n",
       "</div>"
      ],
      "text/plain": [
       "     Unnamed: 0         T1         T2 old/new  new pchembl  \\\n",
       "0           931 -20.177855  17.812523     new     6.221849   \n",
       "1           932  -8.664650  15.222310     new     5.530178   \n",
       "2           933 -26.357708  16.057530     new     6.958607   \n",
       "3           934 -26.245167  16.169292     new     4.679231   \n",
       "4           935  -6.062587   3.245143     new     4.799971   \n",
       "..          ...        ...        ...     ...          ...   \n",
       "271        1202  29.576920  42.236760     new     4.356547   \n",
       "272        1203  28.674273  42.121370     new     5.275724   \n",
       "273        1204  30.456985  42.285816     new     4.886057   \n",
       "274        1205  29.793129  41.812630     new     4.853872   \n",
       "275        1206  29.898232  41.115300     new     4.221849   \n",
       "\n",
       "                                                SMILES  subset  subset.1  \n",
       "0              COC1=C(O)C=CC(CNC(CCCC/C=C/C(C)C)=O)=C1     NaN       NaN  \n",
       "1          OC1=C2C(OC=C(C3=CC=C(OC)C=C3)C2=O)=CC(O)=C1     3.0       NaN  \n",
       "2    OC1=CC=C(/C=C/C(O[C@@H](C(O)=O)CC2=CC=C(O)C(O)...     3.0       2.0  \n",
       "3    OC1=C(O)C=CC(/C=C/C(O[C@H](CC2=CC(O)=C(O)C=C2)...     3.0       NaN  \n",
       "4     CC1=C(C=CC(C(OC[C@@H]2C)=C2C3=O)=C4C3=O)C4=CC=C1     3.0       2.0  \n",
       "..                                                 ...     ...       ...  \n",
       "271  NC([C@@]([H])(NC([C@@H](NC([C@@H](NC([C@@H](NC...     1.0       NaN  \n",
       "272  NC([C@@]([H])(NC([C@@H](NC([C@@H](NC([C@@H](NC...     1.0       NaN  \n",
       "273  NC([C@@H](C)NC([C@@H](NC([C@@H](C)NC([C@@H](NC...     1.0       NaN  \n",
       "274  NC([C@@]([H])(NC([C@@H](NC([C@@H](NC([C@H](CCC...     1.0       NaN  \n",
       "275  NC([C@@]([H])(NC([C@@H](NC([C@@H](NC([C@@H](NC...     1.0       NaN  \n",
       "\n",
       "[276 rows x 8 columns]"
      ]
     },
     "execution_count": 2,
     "metadata": {},
     "output_type": "execute_result"
    }
   ],
   "source": [
    "data = pd.read_csv(\"./datasets/new only tsne dataset.csv\")\n",
    "data"
   ]
  },
  {
   "cell_type": "code",
   "execution_count": 2,
   "id": "325f1210",
   "metadata": {},
   "outputs": [],
   "source": [
    "#subset histograms were plotted by manually moving pchembl data only into './datasets/subset hist.csv' from the relevant './datasets/new subset X.csv' file"
   ]
  },
  {
   "cell_type": "markdown",
   "id": "54ca108b",
   "metadata": {},
   "source": [
    "subset 1"
   ]
  },
  {
   "cell_type": "code",
   "execution_count": 9,
   "id": "cffb98bb",
   "metadata": {},
   "outputs": [],
   "source": [
    "df = pd.read_csv('./datasets/subset hist.csv')"
   ]
  },
  {
   "cell_type": "code",
   "execution_count": 18,
   "id": "c7f7f658",
   "metadata": {
    "scrolled": true
   },
   "outputs": [
    {
     "data": {
      "image/png": "[encoded data removed]",
      "text/plain": [
       "<Figure size 432x288 with 1 Axes>"
      ]
     },
     "metadata": {
      "needs_background": "light"
     },
     "output_type": "display_data"
    }
   ],
   "source": [
    "df.hist(grid=True, bins=12, rwidth=0.9,\n",
    "                   color='#FF7F24')\n",
    "plt.title('Subset 1 pCHEMBL distribution')\n",
    "plt.xlabel('pCHEMBL')\n",
    "plt.ylabel('Frequency')\n",
    "plt.grid(axis='y', alpha=0.75)\n",
    "plt. grid(False)\n",
    "plt.savefig(\"figures/new susbset 1.png\")"
   ]
  },
  {
   "cell_type": "markdown",
   "id": "4f198de3",
   "metadata": {},
   "source": [
    "subset 2"
   ]
  },
  {
   "cell_type": "code",
   "execution_count": 19,
   "id": "71328e5e",
   "metadata": {},
   "outputs": [
    {
     "data": {
      "image/png": "[encoded data removed]",
      "text/plain": [
       "<Figure size 432x288 with 1 Axes>"
      ]
     },
     "metadata": {
      "needs_background": "light"
     },
     "output_type": "display_data"
    }
   ],
   "source": [
    "df = pd.read_csv('./datasets/subset hist.csv')\n",
    "df.hist(grid=True, bins=12, rwidth=0.9,\n",
    "                   color='#FF7F24')\n",
    "plt.title('Subset 2 pCHEMBL distribution')\n",
    "plt.xlabel('pCHEMBL')\n",
    "plt.ylabel('Frequency')\n",
    "plt.grid(axis='y', alpha=0.75)\n",
    "plt. grid(False)\n",
    "plt.savefig(\"figures/new susbset 2.png\")"
   ]
  },
  {
   "cell_type": "markdown",
   "id": "24b4c5d0",
   "metadata": {},
   "source": [
    "subset 3"
   ]
  },
  {
   "cell_type": "code",
   "execution_count": 14,
   "id": "c5f77048",
   "metadata": {},
   "outputs": [
    {
     "data": {
      "image/png": "[encoded data removed]",
      "text/plain": [
       "<Figure size 432x288 with 1 Axes>"
      ]
     },
     "metadata": {
      "needs_background": "light"
     },
     "output_type": "display_data"
    }
   ],
   "source": [
    "df = pd.read_csv('./datasets/subset hist.csv')\n",
    "df.hist(grid=True, bins=12, rwidth=0.9,\n",
    "                   color='#FF7F24')\n",
    "plt.title('Subset 3 pCHEMBL distribution')\n",
    "plt.xlabel('pCHEMBL')\n",
    "plt.ylabel('Frequency')\n",
    "plt.grid(axis='y', alpha=0.75)\n",
    "plt. grid(False)\n",
    "plt.savefig(\"figures/new susbset 3.png\")"
   ]
  },
  {
   "cell_type": "markdown",
   "id": "59289095",
   "metadata": {},
   "source": [
    "subset 4"
   ]
  },
  {
   "cell_type": "code",
   "execution_count": 15,
   "id": "efd00343",
   "metadata": {},
   "outputs": [
    {
     "data": {
      "image/png": "[encoded data removed]",
      "text/plain": [
       "<Figure size 432x288 with 1 Axes>"
      ]
     },
     "metadata": {
      "needs_background": "light"
     },
     "output_type": "display_data"
    }
   ],
   "source": [
    "df = pd.read_csv('./datasets/subset hist.csv')\n",
    "df.hist(grid=True, bins=12, rwidth=0.9,\n",
    "                   color='#FF7F24')\n",
    "plt.title('Subset 4 pCHEMBL distribution')\n",
    "plt.xlabel('pCHEMBL')\n",
    "plt.ylabel('Frequency')\n",
    "plt.grid(axis='y', alpha=0.75)\n",
    "plt. grid(False)\n",
    "plt.savefig(\"figures/new susbset 4.png\")"
   ]
  }
 ],
 "metadata": {
  "kernelspec": {
   "display_name": "ml-lsd1",
   "language": "python",
   "name": "ml-lsd1"
  },
  "language_info": {
   "codemirror_mode": {
    "name": "ipython",
    "version": 3
   },
   "file_extension": ".py",
   "mimetype": "text/x-python",
   "name": "python",
   "nbconvert_exporter": "python",
   "pygments_lexer": "ipython3",
   "version": "3.7.11"
  }
 },
 "nbformat": 4,
 "nbformat_minor": 5
}
