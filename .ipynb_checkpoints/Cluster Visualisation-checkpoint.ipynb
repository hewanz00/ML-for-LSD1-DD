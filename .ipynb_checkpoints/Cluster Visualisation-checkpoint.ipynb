{
 "cells": [
  {
   "cell_type": "code",
   "execution_count": 1,
   "id": "973ee7f1",
   "metadata": {},
   "outputs": [],
   "source": [
    "%matplotlib inline\n",
    "import os\n",
    "\n",
    "import rdkit\n",
    "from rdkit import Chem\n",
    "from rdkit.Chem import AllChem\n",
    "\n",
    "import pandas\n",
    "import numpy as np\n",
    "import pandas as pd\n",
    "import re\n",
    "from rdkit.Chem import Draw\n",
    "from rdkit.Chem import DataStructs\n",
    "\n",
    "from utils import save_dataset, get_parameters\n",
    "from rdkit_utils import smiles_dataset\n",
    "\n",
    "from rdkit.Chem import Draw\n",
    "from rdkit.Chem.Draw import IPythonConsole\n",
    "\n",
    "import matplotlib.pyplot as plt\n",
    "from PIL import Image\n"
   ]
  },
  {
   "cell_type": "markdown",
   "id": "2ed21b9a",
   "metadata": {},
   "source": [
    "cluster 1"
   ]
  },
  {
   "cell_type": "code",
   "execution_count": null,
   "id": "eeab4ace",
   "metadata": {},
   "outputs": [],
   "source": [
    "#using RDKit to draw molecules from SMILES to evaluate structural diversity"
   ]
  },
  {
   "cell_type": "code",
   "execution_count": 2,
   "id": "5b56355b",
   "metadata": {},
   "outputs": [],
   "source": [
    "data = pd.read_csv('./datasets/cluster 1.csv')\n",
    "smiles = data[\"SMILES\"].tolist()"
   ]
  },
  {
   "cell_type": "code",
   "execution_count": 5,
   "id": "4bf6fe33",
   "metadata": {},
   "outputs": [],
   "source": [
    "mols = [Chem.MolFromSmiles(smi) for smi in smiles]\n",
    "img=Draw.MolsToGridImage(mols, molsPerRow=10, subImgSize=(200, 200), returnPNG=False)\n",
    "img.save('figures/cluster1.png')  "
   ]
  },
  {
   "cell_type": "markdown",
   "id": "4aa17933",
   "metadata": {},
   "source": [
    "cluster 2"
   ]
  },
  {
   "cell_type": "code",
   "execution_count": 9,
   "id": "f1d60a6f",
   "metadata": {},
   "outputs": [],
   "source": [
    "data = pd.read_csv('./datasets/cluster 2.csv')\n",
    "smiles = data[\"SMILES\"].tolist()"
   ]
  },
  {
   "cell_type": "code",
   "execution_count": 11,
   "id": "1fa5e4ba",
   "metadata": {},
   "outputs": [],
   "source": [
    "mols = [Chem.MolFromSmiles(smi) for smi in smiles]\n",
    "img=Draw.MolsToGridImage(mols, molsPerRow=10, subImgSize=(200, 200), returnPNG=False)\n",
    "img.save('figures/cluster2.png')  "
   ]
  },
  {
   "cell_type": "markdown",
   "id": "aea515c5",
   "metadata": {},
   "source": [
    "cluster 3"
   ]
  },
  {
   "cell_type": "code",
   "execution_count": 12,
   "id": "7b197604",
   "metadata": {},
   "outputs": [],
   "source": [
    "data = pd.read_csv('./datasets/cluster 3.csv')\n",
    "smiles = data[\"SMILES\"].tolist()"
   ]
  },
  {
   "cell_type": "code",
   "execution_count": 13,
   "id": "1b5d5e16",
   "metadata": {},
   "outputs": [],
   "source": [
    "mols = [Chem.MolFromSmiles(smi) for smi in smiles]\n",
    "img=Draw.MolsToGridImage(mols, molsPerRow=10, subImgSize=(200, 200), returnPNG=False)\n",
    "img.save('figures/cluster3.png')  "
   ]
  },
  {
   "cell_type": "code",
   "execution_count": null,
   "id": "beeeea07",
   "metadata": {},
   "outputs": [],
   "source": []
  }
 ],
 "metadata": {
  "kernelspec": {
   "display_name": "ml-lsd1",
   "language": "python",
   "name": "ml-lsd1"
  },
  "language_info": {
   "codemirror_mode": {
    "name": "ipython",
    "version": 3
   },
   "file_extension": ".py",
   "mimetype": "text/x-python",
   "name": "python",
   "nbconvert_exporter": "python",
   "pygments_lexer": "ipython3",
   "version": "3.7.11"
  }
 },
 "nbformat": 4,
 "nbformat_minor": 5
}
