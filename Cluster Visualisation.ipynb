{
 "cells": [
  {
   "cell_type": "code",
   "execution_count": 1,
   "id": "7a226ed7",
   "metadata": {},
   "outputs": [],
   "source": [
    "%matplotlib inline\n",
    "import os\n",
    "\n",
    "import rdkit\n",
    "from rdkit import Chem\n",
    "from rdkit.Chem import AllChem\n",
    "\n",
    "import pandas\n",
    "import numpy as np\n",
    "import pandas as pd\n",
    "import re\n",
    "from rdkit.Chem import Draw\n",
    "from rdkit.Chem import DataStructs\n",
    "\n",
    "from utils import save_dataset, get_parameters\n",
    "from rdkit_utils import smiles_dataset\n",
    "\n",
    "from rdkit.Chem import Draw\n",
    "from rdkit.Chem.Draw import IPythonConsole\n",
    "\n",
    "import matplotlib.pyplot as plt\n",
    "from PIL import Image\n"
   ]
  },
  {
   "cell_type": "markdown",
   "id": "d4d5053f",
   "metadata": {},
   "source": [
    "cluster 1"
   ]
  },
  {
   "cell_type": "code",
   "execution_count": null,
   "id": "44a834a4",
   "metadata": {},
   "outputs": [],
   "source": [
    "#using RDKit to draw molecules from SMILES to evaluate structural diversity"
   ]
  },
  {
   "cell_type": "code",
   "execution_count": 2,
   "id": "c167463d",
   "metadata": {},
   "outputs": [],
   "source": [
    "data = pd.read_csv('./datasets/cluster 1.csv')\n",
    "smiles = data[\"SMILES\"].tolist()"
   ]
  },
  {
   "cell_type": "code",
   "execution_count": 4,
   "id": "80c01993",
   "metadata": {},
   "outputs": [],
   "source": [
    "mols = [Chem.MolFromSmiles(smi) for smi in smiles]\n",
    "img=Draw.MolsToGridImage(mols, molsPerRow=10, subImgSize=(200, 200), returnPNG=False)\n",
    "img.save('figures/cluster1.png')  "
   ]
  },
  {
   "cell_type": "markdown",
   "id": "9bea0cac",
   "metadata": {},
   "source": [
    "cluster 2"
   ]
  },
  {
   "cell_type": "code",
   "execution_count": null,
   "id": "ca5176dc",
   "metadata": {},
   "outputs": [],
   "source": [
    "data = pd.read_csv('./datasets/cluster 1.csv')\n",
    "smiles = data[\"SMILES\"].tolist()"
   ]
  },
  {
   "cell_type": "code",
   "execution_count": null,
   "id": "892935a4",
   "metadata": {},
   "outputs": [],
   "source": [
    "mols = [Chem.MolFromSmiles(smi) for smi in smiles]\n",
    "img=Draw.MolsToGridImage(mols, molsPerRow=5, subImgSize=(200, 200), returnPNG=False)\n",
    "img.save('figures/cluster 1.png')  "
   ]
  },
  {
   "cell_type": "code",
   "execution_count": null,
   "id": "89226ab3",
   "metadata": {},
   "outputs": [],
   "source": []
  },
  {
   "cell_type": "code",
   "execution_count": null,
   "id": "24d1361f",
   "metadata": {},
   "outputs": [],
   "source": []
  },
  {
   "cell_type": "code",
   "execution_count": null,
   "id": "89d93cdb",
   "metadata": {},
   "outputs": [],
   "source": []
  },
  {
   "cell_type": "code",
   "execution_count": null,
   "id": "9cf2d684",
   "metadata": {},
   "outputs": [],
   "source": []
  }
 ],
 "metadata": {
  "kernelspec": {
   "display_name": "ml-lsd1",
   "language": "python",
   "name": "ml-lsd1"
  },
  "language_info": {
   "codemirror_mode": {
    "name": "ipython",
    "version": 3
   },
   "file_extension": ".py",
   "mimetype": "text/x-python",
   "name": "python",
   "nbconvert_exporter": "python",
   "pygments_lexer": "ipython3",
   "version": "3.7.11"
  }
 },
 "nbformat": 4,
 "nbformat_minor": 5
}
